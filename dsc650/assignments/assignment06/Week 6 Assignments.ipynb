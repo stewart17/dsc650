{
 "cells": [
  {
   "cell_type": "markdown",
   "id": "6d6b2052",
   "metadata": {},
   "source": [
    "# Week 6 Assignments"
   ]
  },
  {
   "cell_type": "markdown",
   "id": "d32583e3",
   "metadata": {},
   "source": [
    "## Assignment 6.1"
   ]
  },
  {
   "cell_type": "code",
   "execution_count": 142,
   "id": "57a093bc",
   "metadata": {},
   "outputs": [],
   "source": [
    "from keras.datasets import mnist"
   ]
  },
  {
   "cell_type": "code",
   "execution_count": 143,
   "id": "8e1b5efd",
   "metadata": {},
   "outputs": [],
   "source": [
    "(train_images, train_labels), (test_images, test_labels) = mnist.load_data()"
   ]
  },
  {
   "cell_type": "code",
   "execution_count": 144,
   "id": "ef4b1a40",
   "metadata": {},
   "outputs": [],
   "source": [
    "# prepping data\n",
    "train_images = train_images.reshape((60000, 28, 28, 1))\n",
    "train_images = train_images.astype('float32') / 255\n",
    "\n",
    "test_images = test_images.reshape((10000, 28, 28, 1))\n",
    "test_images = test_images.astype('float32') / 255"
   ]
  },
  {
   "cell_type": "code",
   "execution_count": 145,
   "id": "6a8087f9",
   "metadata": {},
   "outputs": [],
   "source": [
    "# prepping labels\n",
    "train_labels = to_categorical(train_labels)\n",
    "test_labels = to_categorical(test_labels)"
   ]
  },
  {
   "cell_type": "code",
   "execution_count": 162,
   "id": "f05c32ba",
   "metadata": {},
   "outputs": [],
   "source": [
    "# create model\n",
    "model = models.Sequential()\n",
    "model.add(layers.Conv2D(32, (3, 3), activation='relu', input_shape=(28, 28, 1)))\n",
    "model.add(layers.MaxPooling2D((2, 2)))\n",
    "model.add(layers.Conv2D(64, (3, 3), activation='relu'))\n",
    "model.add(layers.MaxPooling2D((2, 2)))\n",
    "model.add(layers.Conv2D(64, (3, 3), activation='relu'))\n",
    "model.add(layers.Flatten())\n",
    "model.add(layers.Dense(64, activation='relu'))\n",
    "model.add(layers.Dense(10, activation='softmax'))"
   ]
  },
  {
   "cell_type": "code",
   "execution_count": 163,
   "id": "d9708bfc",
   "metadata": {},
   "outputs": [],
   "source": [
    "model.compile(optimizer='rmsprop',\n",
    "    loss='categorical_crossentropy',\n",
    "    metrics=['accuracy'])"
   ]
  },
  {
   "cell_type": "code",
   "execution_count": 164,
   "id": "f4662717",
   "metadata": {},
   "outputs": [
    {
     "name": "stdout",
     "output_type": "stream",
     "text": [
      "Epoch 1/5\n",
      "938/938 [==============================] - 26s 27ms/step - loss: 0.1689 - accuracy: 0.9465\n",
      "Epoch 2/5\n",
      "938/938 [==============================] - 24s 26ms/step - loss: 0.0454 - accuracy: 0.9861\n",
      "Epoch 3/5\n",
      "938/938 [==============================] - 25s 27ms/step - loss: 0.0311 - accuracy: 0.9901\n",
      "Epoch 4/5\n",
      "938/938 [==============================] - 25s 27ms/step - loss: 0.0241 - accuracy: 0.9924\n",
      "Epoch 5/5\n",
      "938/938 [==============================] - 25s 27ms/step - loss: 0.0187 - accuracy: 0.9942\n"
     ]
    },
    {
     "data": {
      "text/plain": [
       "<keras.callbacks.History at 0x22f0a3ca3a0>"
      ]
     },
     "execution_count": 164,
     "metadata": {},
     "output_type": "execute_result"
    }
   ],
   "source": [
    "model.fit(train_images, train_labels, epochs=5, batch_size=64)"
   ]
  },
  {
   "cell_type": "code",
   "execution_count": 165,
   "id": "fbf28ebb",
   "metadata": {},
   "outputs": [
    {
     "name": "stderr",
     "output_type": "stream",
     "text": [
      "WARNING:absl:Found untraced functions such as _jit_compiled_convolution_op, _jit_compiled_convolution_op, _jit_compiled_convolution_op while saving (showing 3 of 3). These functions will not be directly callable after loading.\n"
     ]
    },
    {
     "name": "stdout",
     "output_type": "stream",
     "text": [
      "INFO:tensorflow:Assets written to: C:/Users/Stewart/Documents/GitHub\\dsc650/dsc650/assignments/assignment06/results/6.1\\assets\n"
     ]
    },
    {
     "name": "stderr",
     "output_type": "stream",
     "text": [
      "INFO:tensorflow:Assets written to: C:/Users/Stewart/Documents/GitHub\\dsc650/dsc650/assignments/assignment06/results/6.1\\assets\n"
     ]
    }
   ],
   "source": [
    "model.save(\"C:/Users/Stewart/Documents/GitHub\\dsc650/dsc650/assignments/assignment06/results/6.1\")"
   ]
  },
  {
   "cell_type": "code",
   "execution_count": 102,
   "id": "b0a8f82b",
   "metadata": {},
   "outputs": [
    {
     "data": {
      "image/png": "[encoded data removed]",
      "text/plain": [
       "<Figure size 432x288 with 1 Axes>"
      ]
     },
     "metadata": {
      "needs_background": "light"
     },
     "output_type": "display_data"
    },
    {
     "data": {
      "image/png": "[encoded data removed]",
      "text/plain": [
       "<Figure size 432x288 with 1 Axes>"
      ]
     },
     "metadata": {
      "needs_background": "light"
     },
     "output_type": "display_data"
    }
   ],
   "source": [
    "# plotting model\n",
    "acc = history.history['accuracy']\n",
    "val_acc = history.history['val_accuracy']\n",
    "loss = history.history['loss']\n",
    "val_loss = history.history['val_loss']\n",
    "epochs = range(1, len(acc) + 1)\n",
    "plt.plot(epochs, acc, 'bo', label='Training acc')\n",
    "plt.plot(epochs, val_acc, 'b', label='Validation acc')\n",
    "plt.title('Training and validation accuracy')\n",
    "plt.legend()\n",
    "plt.figure()\n",
    "plt.plot(epochs, loss, 'bo', label='Training loss')\n",
    "plt.plot(epochs, val_loss, 'b', label='Validation loss')\n",
    "plt.title('Training and validation loss')\n",
    "plt.legend()\n",
    "plt.show()"
   ]
  },
  {
   "cell_type": "markdown",
   "id": "2a5af8ba",
   "metadata": {},
   "source": [
    "## Assignment 6.2"
   ]
  },
  {
   "cell_type": "markdown",
   "id": "724005a7",
   "metadata": {},
   "source": [
    "### Assignment 6.2a"
   ]
  },
  {
   "cell_type": "code",
   "execution_count": 78,
   "id": "d8907a35",
   "metadata": {},
   "outputs": [],
   "source": [
    "import keras\n",
    "import tensorflow.keras.datasets\n",
    "from keras import layers\n",
    "from keras import models\n",
    "from keras import optimizers\n",
    "import ssl\n",
    "from keras.preprocessing.image import ImageDataGenerator\n",
    "import tensorflow as tf\n",
    "from keras.utils import to_categorical\n",
    "from keras.preprocessing.image import ImageDataGenerator\n",
    "import matplotlib.pyplot as plt\n",
    "from keras.optimizers import SGD"
   ]
  },
  {
   "cell_type": "code",
   "execution_count": 7,
   "id": "46cc1514",
   "metadata": {},
   "outputs": [],
   "source": [
    "ssl._create_default_https_context = ssl._create_unverified_context"
   ]
  },
  {
   "cell_type": "code",
   "execution_count": 151,
   "id": "c8092219",
   "metadata": {
    "scrolled": false
   },
   "outputs": [],
   "source": [
    "(x_train, y_train), (x_test, y_test) = keras.datasets.cifar10.load_data()"
   ]
  },
  {
   "cell_type": "code",
   "execution_count": 152,
   "id": "d3450995",
   "metadata": {},
   "outputs": [],
   "source": [
    "# one hot encode target values\n",
    "trainY = to_categorical(y_train)\n",
    "testY = to_categorical(y_test)"
   ]
  },
  {
   "cell_type": "code",
   "execution_count": 154,
   "id": "24040c9d",
   "metadata": {},
   "outputs": [],
   "source": [
    "# loading model\n",
    "model = models.Sequential()\n",
    "model.add(layers.Conv2D(32, (3, 3), activation='relu', input_shape=(32, 32, 3)))\n",
    "model.add(layers.MaxPooling2D((2, 2)))\n",
    "model.add(layers.Conv2D(64, (3, 3), activation='relu'))\n",
    "model.add(layers.MaxPooling2D((2, 2)))\n",
    "model.add(layers.Conv2D(64, (3, 3), activation='relu'))\n",
    "model.add(layers.Flatten())\n",
    "model.add(layers.Dense(64, activation='relu'))\n",
    "model.add(layers.Dense(10))"
   ]
  },
  {
   "cell_type": "code",
   "execution_count": 155,
   "id": "5091799a",
   "metadata": {},
   "outputs": [],
   "source": [
    "# creating model \n",
    "model.compile(loss=tf.keras.losses.SparseCategoricalCrossentropy(from_logits=True), optimizer='adam', metrics=['acc'])"
   ]
  },
  {
   "cell_type": "code",
   "execution_count": 156,
   "id": "f64088ee",
   "metadata": {},
   "outputs": [
    {
     "name": "stdout",
     "output_type": "stream",
     "text": [
      "Epoch 1/10\n",
      "782/782 [==============================] - 32s 41ms/step - loss: 1.9226 - acc: 0.3660 - val_loss: 1.4330 - val_acc: 0.4788\n",
      "Epoch 2/10\n",
      "782/782 [==============================] - 32s 40ms/step - loss: 1.3404 - acc: 0.5172 - val_loss: 1.2616 - val_acc: 0.5491\n",
      "Epoch 3/10\n",
      "782/782 [==============================] - 32s 40ms/step - loss: 1.1932 - acc: 0.5775 - val_loss: 1.1527 - val_acc: 0.5970\n",
      "Epoch 4/10\n",
      "782/782 [==============================] - 32s 41ms/step - loss: 1.0730 - acc: 0.6248 - val_loss: 1.0946 - val_acc: 0.6157\n",
      "Epoch 5/10\n",
      "782/782 [==============================] - 32s 41ms/step - loss: 0.9924 - acc: 0.6539 - val_loss: 1.0599 - val_acc: 0.6354\n",
      "Epoch 6/10\n",
      "782/782 [==============================] - 31s 40ms/step - loss: 0.9176 - acc: 0.6815 - val_loss: 1.0230 - val_acc: 0.6557\n",
      "Epoch 7/10\n",
      "782/782 [==============================] - 31s 39ms/step - loss: 0.8623 - acc: 0.7000 - val_loss: 1.0425 - val_acc: 0.6470\n",
      "Epoch 8/10\n",
      "782/782 [==============================] - 32s 41ms/step - loss: 0.8049 - acc: 0.7204 - val_loss: 1.0288 - val_acc: 0.6587\n",
      "Epoch 9/10\n",
      "782/782 [==============================] - 31s 40ms/step - loss: 0.7566 - acc: 0.7363 - val_loss: 0.9852 - val_acc: 0.6748\n",
      "Epoch 10/10\n",
      "782/782 [==============================] - 32s 40ms/step - loss: 0.7104 - acc: 0.7512 - val_loss: 1.0325 - val_acc: 0.6649\n"
     ]
    }
   ],
   "source": [
    "history = model.fit(x_train, y_train, epochs=10, \n",
    "                    validation_data=(x_test, y_test), batch_size =64)"
   ]
  },
  {
   "cell_type": "code",
   "execution_count": 158,
   "id": "70ec3a00",
   "metadata": {},
   "outputs": [
    {
     "name": "stderr",
     "output_type": "stream",
     "text": [
      "WARNING:absl:Found untraced functions such as _jit_compiled_convolution_op, _jit_compiled_convolution_op, _jit_compiled_convolution_op while saving (showing 3 of 3). These functions will not be directly callable after loading.\n"
     ]
    },
    {
     "name": "stdout",
     "output_type": "stream",
     "text": [
      "INFO:tensorflow:Assets written to: C:/Users/Stewart/Documents/GitHub\\dsc650/dsc650/assignments/assignment06/results/6.1a\\assets\n"
     ]
    },
    {
     "name": "stderr",
     "output_type": "stream",
     "text": [
      "INFO:tensorflow:Assets written to: C:/Users/Stewart/Documents/GitHub\\dsc650/dsc650/assignments/assignment06/results/6.1a\\assets\n"
     ]
    }
   ],
   "source": [
    "model.save(\"C:/Users/Stewart/Documents/GitHub\\dsc650/dsc650/assignments/assignment06/results/6.1a\")"
   ]
  },
  {
   "cell_type": "code",
   "execution_count": 60,
   "id": "4d9a6a72",
   "metadata": {},
   "outputs": [
    {
     "data": {
      "image/png": "[encoded data removed]",
      "text/plain": [
       "<Figure size 432x288 with 1 Axes>"
      ]
     },
     "metadata": {
      "needs_background": "light"
     },
     "output_type": "display_data"
    },
    {
     "data": {
      "image/png": "[encoded data removed]",
      "text/plain": [
       "<Figure size 432x288 with 1 Axes>"
      ]
     },
     "metadata": {
      "needs_background": "light"
     },
     "output_type": "display_data"
    }
   ],
   "source": [
    "# plotting model\n",
    "acc = history.history['acc']\n",
    "val_acc = history.history['val_acc']\n",
    "loss = history.history['loss']\n",
    "val_loss = history.history['val_loss']\n",
    "epochs = range(1, len(acc) + 1)\n",
    "plt.plot(epochs, acc, 'bo', label='Training acc')\n",
    "plt.plot(epochs, val_acc, 'b', label='Validation acc')\n",
    "plt.title('Training and validation accuracy')\n",
    "plt.legend()\n",
    "plt.figure()\n",
    "plt.plot(epochs, loss, 'bo', label='Training loss')\n",
    "plt.plot(epochs, val_loss, 'b', label='Validation loss')\n",
    "plt.title('Training and validation loss')\n",
    "plt.legend()\n",
    "plt.show()"
   ]
  },
  {
   "cell_type": "markdown",
   "id": "838a2349",
   "metadata": {},
   "source": [
    "### Assignment 6.2b"
   ]
  },
  {
   "cell_type": "code",
   "execution_count": 166,
   "id": "3c6e1f9a",
   "metadata": {},
   "outputs": [],
   "source": [
    "def prep_pixels(train, test):\n",
    "    # convert from integers to floats\n",
    "    train_norm = train.astype('float32')\n",
    "    test_norm = test.astype('float32')\n",
    "    # normalize to range 0-1\n",
    "    train_norm = train_norm / 255.0\n",
    "    test_norm = test_norm / 255.0\n",
    "    # return normalized images\n",
    "    return train_norm, test_norm"
   ]
  },
  {
   "cell_type": "code",
   "execution_count": 167,
   "id": "293f6b04",
   "metadata": {},
   "outputs": [],
   "source": [
    "def define_model():\n",
    "    model = models.Sequential()\n",
    "    model.add(layers.Conv2D(32, (3, 3), activation='relu', kernel_initializer='he_uniform', padding='same', input_shape=(32, 32, 3)))\n",
    "    model.add(layers.Conv2D(32, (3, 3), activation='relu', kernel_initializer='he_uniform', padding='same'))\n",
    "    model.add(layers.MaxPooling2D((2, 2)))\n",
    "    model.add(layers.Conv2D(64, (3, 3), activation='relu', kernel_initializer='he_uniform', padding='same'))\n",
    "    model.add(layers.Conv2D(64, (3, 3), activation='relu', kernel_initializer='he_uniform', padding='same'))\n",
    "    model.add(layers.MaxPooling2D((2, 2)))\n",
    "    model.add(layers.Conv2D(128, (3, 3), activation='relu', kernel_initializer='he_uniform', padding='same'))\n",
    "    model.add(layers.Conv2D(128, (3, 3), activation='relu', kernel_initializer='he_uniform', padding='same'))\n",
    "    model.add(layers.MaxPooling2D((2, 2)))\n",
    "    model.add(layers.Flatten())\n",
    "    model.add(layers.Dropout(.5))\n",
    "    model.add(layers.Dense(128, activation='relu', kernel_initializer='he_uniform'))\n",
    "    model.add(layers.Dense(10, activation='softmax'))\n",
    "    # compile model\n",
    "    opt = SGD(lr=0.001, momentum=0.9)\n",
    "    model.compile(optimizer=opt, loss='categorical_crossentropy', metrics=['accuracy'])\n",
    "    return model"
   ]
  },
  {
   "cell_type": "code",
   "execution_count": 168,
   "id": "9e74c242",
   "metadata": {},
   "outputs": [],
   "source": [
    "# categorical\n",
    "trainY = to_categorical(y_train)\n",
    "testY = to_categorical(y_test)"
   ]
  },
  {
   "cell_type": "code",
   "execution_count": 170,
   "id": "48b743d9",
   "metadata": {},
   "outputs": [],
   "source": [
    "trainX, testX = prep_pixels(x_train, x_test)"
   ]
  },
  {
   "cell_type": "code",
   "execution_count": 171,
   "id": "b0260c46",
   "metadata": {},
   "outputs": [
    {
     "name": "stderr",
     "output_type": "stream",
     "text": [
      "C:\\Users\\Stewart\\anaconda3\\lib\\site-packages\\keras\\optimizers\\optimizer_v2\\gradient_descent.py:111: UserWarning: The `lr` argument is deprecated, use `learning_rate` instead.\n",
      "  super().__init__(name, **kwargs)\n"
     ]
    }
   ],
   "source": [
    "# load model\n",
    "model = define_model()"
   ]
  },
  {
   "cell_type": "code",
   "execution_count": 172,
   "id": "8b831905",
   "metadata": {},
   "outputs": [],
   "source": [
    "# create generator to shift and rotate image\n",
    "datagen = ImageDataGenerator(width_shift_range=0.1, height_shift_range=0.1, horizontal_flip=True)"
   ]
  },
  {
   "cell_type": "code",
   "execution_count": 173,
   "id": "77499358",
   "metadata": {},
   "outputs": [],
   "source": [
    "# fit to datda\n",
    "it_train = datagen.flow(trainX, trainY, batch_size=64)"
   ]
  },
  {
   "cell_type": "code",
   "execution_count": 177,
   "id": "4b3f0fe7",
   "metadata": {},
   "outputs": [
    {
     "name": "stdout",
     "output_type": "stream",
     "text": [
      "Epoch 1/12\n",
      "781/781 [==============================] - 148s 190ms/step - loss: 1.8727 - accuracy: 0.3115 - val_loss: 1.6265 - val_accuracy: 0.4117\n",
      "Epoch 2/12\n",
      "781/781 [==============================] - 149s 191ms/step - loss: 1.6052 - accuracy: 0.4102 - val_loss: 1.4219 - val_accuracy: 0.4829\n",
      "Epoch 3/12\n",
      "781/781 [==============================] - 148s 189ms/step - loss: 1.4973 - accuracy: 0.4523 - val_loss: 1.3241 - val_accuracy: 0.5173\n",
      "Epoch 4/12\n",
      "781/781 [==============================] - 149s 190ms/step - loss: 1.4109 - accuracy: 0.4879 - val_loss: 1.2515 - val_accuracy: 0.5464\n",
      "Epoch 5/12\n",
      "781/781 [==============================] - 147s 188ms/step - loss: 1.3303 - accuracy: 0.5234 - val_loss: 1.1311 - val_accuracy: 0.5974\n",
      "Epoch 6/12\n",
      "781/781 [==============================] - 140s 179ms/step - loss: 1.2576 - accuracy: 0.5499 - val_loss: 1.0538 - val_accuracy: 0.6214\n",
      "Epoch 7/12\n",
      "781/781 [==============================] - 139s 178ms/step - loss: 1.2007 - accuracy: 0.5731 - val_loss: 1.0847 - val_accuracy: 0.6114\n",
      "Epoch 8/12\n",
      "781/781 [==============================] - 139s 178ms/step - loss: 1.1470 - accuracy: 0.5903 - val_loss: 1.0085 - val_accuracy: 0.6457\n",
      "Epoch 9/12\n",
      "781/781 [==============================] - 146s 187ms/step - loss: 1.1003 - accuracy: 0.6082 - val_loss: 1.0029 - val_accuracy: 0.6400\n",
      "Epoch 10/12\n",
      "781/781 [==============================] - 143s 183ms/step - loss: 1.0615 - accuracy: 0.6233 - val_loss: 0.9128 - val_accuracy: 0.6817\n",
      "Epoch 11/12\n",
      "781/781 [==============================] - 138s 177ms/step - loss: 1.0260 - accuracy: 0.6365 - val_loss: 1.0040 - val_accuracy: 0.6554\n",
      "Epoch 12/12\n",
      "781/781 [==============================] - 138s 177ms/step - loss: 0.9958 - accuracy: 0.6483 - val_loss: 0.8838 - val_accuracy: 0.6848\n"
     ]
    }
   ],
   "source": [
    "# augmented model\n",
    "steps = int(trainX.shape[0] / 64)\n",
    "history = model.fit(it_train, steps_per_epoch=steps, epochs=12,  validation_data=(testX, testY))"
   ]
  },
  {
   "cell_type": "code",
   "execution_count": 178,
   "id": "d7cb33f6",
   "metadata": {
    "scrolled": true
   },
   "outputs": [
    {
     "name": "stderr",
     "output_type": "stream",
     "text": [
      "WARNING:absl:Found untraced functions such as _jit_compiled_convolution_op, _jit_compiled_convolution_op, _jit_compiled_convolution_op, _jit_compiled_convolution_op, _jit_compiled_convolution_op while saving (showing 5 of 6). These functions will not be directly callable after loading.\n"
     ]
    },
    {
     "name": "stdout",
     "output_type": "stream",
     "text": [
      "INFO:tensorflow:Assets written to: C:/Users/Stewart/Documents/GitHub\\dsc650/dsc650/assignments/assignment06/results/6.2b\\assets\n"
     ]
    },
    {
     "name": "stderr",
     "output_type": "stream",
     "text": [
      "INFO:tensorflow:Assets written to: C:/Users/Stewart/Documents/GitHub\\dsc650/dsc650/assignments/assignment06/results/6.2b\\assets\n"
     ]
    }
   ],
   "source": [
    "model.save(\"C:/Users/Stewart/Documents/GitHub\\dsc650/dsc650/assignments/assignment06/results/6.2b\")"
   ]
  },
  {
   "cell_type": "code",
   "execution_count": 179,
   "id": "017dc3dc",
   "metadata": {},
   "outputs": [
    {
     "data": {
      "image/png": "[encoded data removed]",
      "text/plain": [
       "<Figure size 432x288 with 1 Axes>"
      ]
     },
     "metadata": {
      "needs_background": "light"
     },
     "output_type": "display_data"
    },
    {
     "data": {
      "image/png": "[encoded data removed]",
      "text/plain": [
       "<Figure size 432x288 with 1 Axes>"
      ]
     },
     "metadata": {
      "needs_background": "light"
     },
     "output_type": "display_data"
    }
   ],
   "source": [
    "# plotting model\n",
    "acc = history.history['accuracy']\n",
    "val_acc = history.history['val_accuracy']\n",
    "loss = history.history['loss']\n",
    "val_loss = history.history['val_loss']\n",
    "epochs = range(1, len(acc) + 1)\n",
    "plt.plot(epochs, acc, 'bo', label='Training acc')\n",
    "plt.plot(epochs, val_acc, 'b', label='Validation acc')\n",
    "plt.title('Training and validation accuracy')\n",
    "plt.legend()\n",
    "plt.figure()\n",
    "plt.plot(epochs, loss, 'bo', label='Training loss')\n",
    "plt.plot(epochs, val_loss, 'b', label='Validation loss')\n",
    "plt.title('Training and validation loss')\n",
    "plt.legend()\n",
    "plt.savefig\n",
    "plt.show()\n"
   ]
  },
  {
   "cell_type": "markdown",
   "id": "7cc92134",
   "metadata": {},
   "source": [
    "## Assignment 6.3"
   ]
  },
  {
   "cell_type": "code",
   "execution_count": 133,
   "id": "2a7336ca",
   "metadata": {},
   "outputs": [],
   "source": [
    "from tensorflow.keras.applications.resnet50 import ResNet50\n",
    "from tensorflow.keras.preprocessing import image\n",
    "from tensorflow.keras.applications.resnet50 import preprocess_input, decode_predictions\n",
    "import numpy as np\n",
    "from keras.callbacks import CSVLogger"
   ]
  },
  {
   "cell_type": "code",
   "execution_count": 104,
   "id": "482e3f12",
   "metadata": {},
   "outputs": [
    {
     "name": "stdout",
     "output_type": "stream",
     "text": [
      "Downloading data from https://storage.googleapis.com/tensorflow/keras-applications/resnet/resnet50_weights_tf_dim_ordering_tf_kernels.h5\n",
      "102967424/102967424 [==============================] - 2s 0us/step\n"
     ]
    }
   ],
   "source": [
    "model = ResNet50(weights='imagenet')"
   ]
  },
  {
   "cell_type": "code",
   "execution_count": 136,
   "id": "ebb33389",
   "metadata": {},
   "outputs": [],
   "source": [
    "# set paths\n",
    "path1 = 'C:/Users/Stewart/Documents/GitHub/dsc650/dsc650/assignments/assignment06/J_tree.jpg'\n",
    "path2 = 'C:/Users/Stewart/Documents/GitHub/dsc650/dsc650/assignments/assignment06/family.jpg'\n",
    "path3 = 'C:/Users/Stewart/Documents/GitHub/dsc650/dsc650/assignments/assignment06/el_cap.jpg'\n",
    "path4 = 'C:/Users/Stewart/Documents/GitHub/dsc650/dsc650/assignments/assignment06/destiny.jpg'\n",
    "path5 = 'C:/Users/Stewart/Documents/GitHub/dsc650/dsc650/assignments/assignment06/chicken.jpg'\n",
    "path6 = 'C:/Users/Stewart/Documents/GitHub/dsc650/dsc650/assignments/assignment06/broccoli.jpg'\n",
    "path7 = 'C:/Users/Stewart/Documents/GitHub/dsc650/dsc650/assignments/assignment06/academy.jpg'"
   ]
  },
  {
   "cell_type": "code",
   "execution_count": 110,
   "id": "41e9550c",
   "metadata": {},
   "outputs": [],
   "source": [
    "# load images\n",
    "img1 = image.load_img(path1, target_size=(224,224))\n",
    "img2 = image.load_img(path2, target_size=(224,224))\n",
    "img3 = image.load_img(path3, target_size=(224,224))\n",
    "img4 = image.load_img(path4, target_size=(224,224))\n",
    "img5 = image.load_img(path5, target_size=(224,224))\n",
    "img6 = image.load_img(path6, target_size=(224,224))\n",
    "img7 = image.load_img(path7, target_size=(224,224))"
   ]
  },
  {
   "cell_type": "code",
   "execution_count": 118,
   "id": "ca0f9e5e",
   "metadata": {},
   "outputs": [],
   "source": [
    "# process images\n",
    "x1 = image.img_to_array(img1)\n",
    "x1 = np.expand_dims(x1, axis=0)\n",
    "x1 = preprocess_input(x1)\n",
    "\n",
    "x2 = image.img_to_array(img2)\n",
    "x2 = np.expand_dims(x2, axis=0)\n",
    "x2 = preprocess_input(x2)\n",
    "\n",
    "x3 = image.img_to_array(img3)\n",
    "x3 = np.expand_dims(x3, axis=0)\n",
    "x3 = preprocess_input(x3)\n",
    "\n",
    "x4 = image.img_to_array(img4)\n",
    "x4 = np.expand_dims(x4, axis=0)\n",
    "x4 = preprocess_input(x4)\n",
    "\n",
    "x5 = image.img_to_array(img5)\n",
    "x5 = np.expand_dims(x5, axis=0)\n",
    "x5 = preprocess_input(x5)\n",
    "\n",
    "x6 = image.img_to_array(img6)\n",
    "x6 = np.expand_dims(x6, axis=0)\n",
    "x6 = preprocess_input(x6)\n",
    "\n",
    "x7 = image.img_to_array(img7)\n",
    "x7 = np.expand_dims(x7, axis=0)\n",
    "x7 = preprocess_input(x7)"
   ]
  },
  {
   "cell_type": "code",
   "execution_count": 125,
   "id": "b4ef6b26",
   "metadata": {},
   "outputs": [],
   "source": [
    "# make list\n",
    "img_lst = [x1, x2, x3, x4, x5, x6, x7]"
   ]
  },
  {
   "cell_type": "code",
   "execution_count": 129,
   "id": "47fb8a31",
   "metadata": {},
   "outputs": [
    {
     "name": "stdout",
     "output_type": "stream",
     "text": [
      "1/1 [==============================] - 0s 111ms/step\n",
      "1/1 [==============================] - 0s 103ms/step\n",
      "1/1 [==============================] - 0s 106ms/step\n",
      "1/1 [==============================] - 0s 108ms/step\n",
      "1/1 [==============================] - 0s 101ms/step\n",
      "1/1 [==============================] - 0s 95ms/step\n",
      "1/1 [==============================] - 0s 98ms/step\n"
     ]
    }
   ],
   "source": [
    "# predict with RESNET\n",
    "preds = []\n",
    "for img in img_lst:\n",
    "    preds.append(model.predict(img))"
   ]
  },
  {
   "cell_type": "code",
   "execution_count": 131,
   "id": "b9b90f87",
   "metadata": {
    "scrolled": false
   },
   "outputs": [
    {
     "name": "stdout",
     "output_type": "stream",
     "text": [
      "Downloading data from https://storage.googleapis.com/download.tensorflow.org/data/imagenet_class_index.json\n",
      "35363/35363 [==============================] - 0s 1us/step\n",
      "Predicted:  [('n11879895', 'rapeseed', 0.22472109), ('n09428293', 'seashore', 0.09783354), ('n09332890', 'lakeside', 0.08908185)]\n",
      "Predicted:  [('n02837789', 'bikini', 0.10039892), ('n04357314', 'sunscreen', 0.09955336), ('n04371430', 'swimming_trunks', 0.092751384)]\n",
      "Predicted:  [('n09246464', 'cliff', 0.33948192), ('n03743016', 'megalith', 0.14667101), ('n09193705', 'alp', 0.13709784)]\n",
      "Predicted:  [('n03388043', 'fountain', 0.121069424), ('n04296562', 'stage', 0.11311978), ('n04141076', 'sax', 0.06450536)]\n",
      "Predicted:  [('n01514668', 'cock', 0.9587393), ('n01514859', 'hen', 0.04110904), ('n01807496', 'partridge', 3.728703e-05)]\n",
      "Predicted:  [('n07714990', 'broccoli', 0.9999753), ('n07715103', 'cauliflower', 2.4534022e-05), ('n07718747', 'artichoke', 1.1558895e-07)]\n",
      "Predicted:  [('n02699494', 'altar', 0.9906288), ('n04523525', 'vault', 0.0048058564), ('n03781244', 'monastery', 0.002689324)]\n"
     ]
    }
   ],
   "source": [
    "# print predictions, save to text file\n",
    "for pred in preds:\n",
    "    print('Predicted: ', decode_predictions(pred, top=3)[0])"
   ]
  }
 ],
 "metadata": {
  "kernelspec": {
   "display_name": "Python 3 (ipykernel)",
   "language": "python",
   "name": "python3"
  },
  "language_info": {
   "codemirror_mode": {
    "name": "ipython",
    "version": 3
   },
   "file_extension": ".py",
   "mimetype": "text/x-python",
   "name": "python",
   "nbconvert_exporter": "python",
   "pygments_lexer": "ipython3",
   "version": "3.9.7"
  }
 },
 "nbformat": 4,
 "nbformat_minor": 5
}
