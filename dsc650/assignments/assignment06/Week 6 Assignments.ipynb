{
 "cells": [
  {
   "cell_type": "markdown",
   "id": "6d6b2052",
   "metadata": {},
   "source": [
    "# Week 6 Assignments"
   ]
  },
  {
   "cell_type": "markdown",
   "id": "d32583e3",
   "metadata": {},
   "source": [
    "## Assignment 6.1"
   ]
  },
  {
   "cell_type": "code",
   "execution_count": 6,
   "id": "57a093bc",
   "metadata": {},
   "outputs": [],
   "source": [
    "from keras.datasets import mnist"
   ]
  },
  {
   "cell_type": "code",
   "execution_count": 7,
   "id": "8e1b5efd",
   "metadata": {},
   "outputs": [],
   "source": [
    "(train_images, train_labels), (test_images, test_labels) = mnist.load_data()"
   ]
  },
  {
   "cell_type": "code",
   "execution_count": 8,
   "id": "ef4b1a40",
   "metadata": {},
   "outputs": [],
   "source": [
    "# prepping data\n",
    "train_images = train_images.reshape((60000, 28, 28, 1))\n",
    "train_images = train_images.astype('float32') / 255\n",
    "\n",
    "test_images = test_images.reshape((10000, 28, 28, 1))\n",
    "test_images = test_images.astype('float32') / 255"
   ]
  },
  {
   "cell_type": "code",
   "execution_count": 9,
   "id": "6a8087f9",
   "metadata": {},
   "outputs": [],
   "source": [
    "# prepping labels\n",
    "train_labels = to_categorical(train_labels)\n",
    "test_labels = to_categorical(test_labels)"
   ]
  },
  {
   "cell_type": "code",
   "execution_count": 10,
   "id": "f05c32ba",
   "metadata": {},
   "outputs": [],
   "source": [
    "# create model\n",
    "model = models.Sequential()\n",
    "model.add(layers.Conv2D(32, (3, 3), activation='relu', input_shape=(28, 28, 1)))\n",
    "model.add(layers.MaxPooling2D((2, 2)))\n",
    "model.add(layers.Conv2D(64, (3, 3), activation='relu'))\n",
    "model.add(layers.MaxPooling2D((2, 2)))\n",
    "model.add(layers.Conv2D(64, (3, 3), activation='relu'))\n",
    "model.add(layers.Flatten())\n",
    "model.add(layers.Dense(64, activation='relu'))\n",
    "model.add(layers.Dense(10, activation='softmax'))"
   ]
  },
  {
   "cell_type": "code",
   "execution_count": 11,
   "id": "d9708bfc",
   "metadata": {},
   "outputs": [],
   "source": [
    "model.compile(optimizer='rmsprop',\n",
    "    loss='categorical_crossentropy',\n",
    "    metrics=['accuracy'])"
   ]
  },
  {
   "cell_type": "code",
   "execution_count": 12,
   "id": "f4662717",
   "metadata": {},
   "outputs": [
    {
     "name": "stdout",
     "output_type": "stream",
     "text": [
      "Epoch 1/5\n",
      "938/938 [==============================] - 12s 8ms/step - loss: 0.1723 - accuracy: 0.9465\n",
      "Epoch 2/5\n",
      "938/938 [==============================] - 6s 7ms/step - loss: 0.0475 - accuracy: 0.9855\n",
      "Epoch 3/5\n",
      "938/938 [==============================] - 6s 7ms/step - loss: 0.0323 - accuracy: 0.9899\n",
      "Epoch 4/5\n",
      "938/938 [==============================] - 6s 7ms/step - loss: 0.0245 - accuracy: 0.9926\n",
      "Epoch 5/5\n",
      "938/938 [==============================] - 7s 8ms/step - loss: 0.0196 - accuracy: 0.9939\n"
     ]
    }
   ],
   "source": [
    "history = model.fit(train_images, train_labels, epochs=5, batch_size=64)"
   ]
  },
  {
   "cell_type": "code",
   "execution_count": 13,
   "id": "fbf28ebb",
   "metadata": {},
   "outputs": [
    {
     "name": "stderr",
     "output_type": "stream",
     "text": [
      "WARNING:absl:Found untraced functions such as _jit_compiled_convolution_op, _jit_compiled_convolution_op, _jit_compiled_convolution_op while saving (showing 3 of 3). These functions will not be directly callable after loading.\n"
     ]
    },
    {
     "name": "stdout",
     "output_type": "stream",
     "text": [
      "INFO:tensorflow:Assets written to: C:/Users/Stewart/Documents/GitHub\\dsc650/dsc650/assignments/assignment06/results/6.1\\assets\n"
     ]
    },
    {
     "name": "stderr",
     "output_type": "stream",
     "text": [
      "INFO:tensorflow:Assets written to: C:/Users/Stewart/Documents/GitHub\\dsc650/dsc650/assignments/assignment06/results/6.1\\assets\n"
     ]
    }
   ],
   "source": [
    "model.save(\"C:/Users/Stewart/Documents/GitHub\\dsc650/dsc650/assignments/assignment06/results/6.1\")"
   ]
  },
  {
   "cell_type": "code",
   "execution_count": null,
   "id": "b0a8f82b",
   "metadata": {},
   "outputs": [],
   "source": [
    "# plotting model\n",
    "acc = history.history['accuracy']\n",
    "loss = history.history['loss']\n",
    "epochs = range(1, len(acc) + 1)\n",
    "plt.plot(epochs, acc, 'bo', label='Training acc')\n",
    "plt.title('Training accuracy')\n",
    "plt.legend()\n",
    "plt.figure()\n",
    "plt.plot(epochs, loss, 'bo', label='Training loss')\n",
    "plt.title('Training loss')\n",
    "plt.legend()\n",
    "plt.show()"
   ]
  },
  {
   "cell_type": "markdown",
   "id": "2a5af8ba",
   "metadata": {},
   "source": [
    "## Assignment 6.2"
   ]
  },
  {
   "cell_type": "markdown",
   "id": "724005a7",
   "metadata": {},
   "source": [
    "### Assignment 6.2a"
   ]
  },
  {
   "cell_type": "code",
   "execution_count": 17,
   "id": "d8907a35",
   "metadata": {},
   "outputs": [],
   "source": [
    "import keras\n",
    "import tensorflow.keras.datasets\n",
    "from keras import layers\n",
    "from keras import models\n",
    "from keras import optimizers\n",
    "import ssl\n",
    "from keras.preprocessing.image import ImageDataGenerator\n",
    "import tensorflow as tf\n",
    "from keras.utils import to_categorical\n",
    "from keras.preprocessing.image import ImageDataGenerator\n",
    "import matplotlib.pyplot as plt\n",
    "from keras.optimizers import SGD\n",
    "import scipy"
   ]
  },
  {
   "cell_type": "code",
   "execution_count": 18,
   "id": "46cc1514",
   "metadata": {},
   "outputs": [],
   "source": [
    "ssl._create_default_https_context = ssl._create_unverified_context"
   ]
  },
  {
   "cell_type": "code",
   "execution_count": 19,
   "id": "c8092219",
   "metadata": {
    "scrolled": false
   },
   "outputs": [],
   "source": [
    "(x_train, y_train), (x_test, y_test) = keras.datasets.cifar10.load_data()"
   ]
  },
  {
   "cell_type": "code",
   "execution_count": 20,
   "id": "d3450995",
   "metadata": {},
   "outputs": [],
   "source": [
    "# one hot encode target values\n",
    "trainY = to_categorical(y_train)\n",
    "testY = to_categorical(y_test)"
   ]
  },
  {
   "cell_type": "code",
   "execution_count": 21,
   "id": "24040c9d",
   "metadata": {},
   "outputs": [],
   "source": [
    "# loading model\n",
    "model = models.Sequential()\n",
    "model.add(layers.Conv2D(32, (3, 3), activation='relu', input_shape=(32, 32, 3)))\n",
    "model.add(layers.MaxPooling2D((2, 2)))\n",
    "model.add(layers.Conv2D(64, (3, 3), activation='relu'))\n",
    "model.add(layers.MaxPooling2D((2, 2)))\n",
    "model.add(layers.Conv2D(64, (3, 3), activation='relu'))\n",
    "model.add(layers.Flatten())\n",
    "model.add(layers.Dense(64, activation='relu'))\n",
    "model.add(layers.Dense(10))"
   ]
  },
  {
   "cell_type": "code",
   "execution_count": 22,
   "id": "5091799a",
   "metadata": {},
   "outputs": [],
   "source": [
    "# creating model \n",
    "model.compile(loss=tf.keras.losses.SparseCategoricalCrossentropy(from_logits=True), optimizer='adam', metrics=['acc'])"
   ]
  },
  {
   "cell_type": "code",
   "execution_count": 23,
   "id": "f64088ee",
   "metadata": {},
   "outputs": [
    {
     "name": "stdout",
     "output_type": "stream",
     "text": [
      "Epoch 1/10\n",
      "782/782 [==============================] - 6s 7ms/step - loss: 1.7827 - acc: 0.3684 - val_loss: 1.4893 - val_acc: 0.4607\n",
      "Epoch 2/10\n",
      "782/782 [==============================] - 4s 5ms/step - loss: 1.2989 - acc: 0.5362 - val_loss: 1.2543 - val_acc: 0.5512\n",
      "Epoch 3/10\n",
      "782/782 [==============================] - 4s 5ms/step - loss: 1.1433 - acc: 0.5953 - val_loss: 1.1509 - val_acc: 0.5944\n",
      "Epoch 4/10\n",
      "782/782 [==============================] - 4s 5ms/step - loss: 1.0325 - acc: 0.6372 - val_loss: 1.0786 - val_acc: 0.6310\n",
      "Epoch 5/10\n",
      "782/782 [==============================] - 4s 5ms/step - loss: 0.9584 - acc: 0.6643 - val_loss: 1.0273 - val_acc: 0.6446\n",
      "Epoch 6/10\n",
      "782/782 [==============================] - 4s 5ms/step - loss: 0.8977 - acc: 0.6843 - val_loss: 1.0105 - val_acc: 0.6563\n",
      "Epoch 7/10\n",
      "782/782 [==============================] - 4s 5ms/step - loss: 0.8385 - acc: 0.7085 - val_loss: 1.0161 - val_acc: 0.6525\n",
      "Epoch 8/10\n",
      "782/782 [==============================] - 5s 6ms/step - loss: 0.7965 - acc: 0.7190 - val_loss: 1.0665 - val_acc: 0.6552\n",
      "Epoch 9/10\n",
      "782/782 [==============================] - 4s 5ms/step - loss: 0.7459 - acc: 0.7374 - val_loss: 1.0506 - val_acc: 0.6505\n",
      "Epoch 10/10\n",
      "782/782 [==============================] - 4s 6ms/step - loss: 0.7072 - acc: 0.7514 - val_loss: 0.9900 - val_acc: 0.6794\n"
     ]
    }
   ],
   "source": [
    "history = model.fit(x_train, y_train, epochs=10, \n",
    "                    validation_data=(x_test, y_test), batch_size =64)"
   ]
  },
  {
   "cell_type": "code",
   "execution_count": 24,
   "id": "70ec3a00",
   "metadata": {},
   "outputs": [
    {
     "name": "stderr",
     "output_type": "stream",
     "text": [
      "WARNING:absl:Found untraced functions such as _jit_compiled_convolution_op, _jit_compiled_convolution_op, _jit_compiled_convolution_op while saving (showing 3 of 3). These functions will not be directly callable after loading.\n"
     ]
    },
    {
     "name": "stdout",
     "output_type": "stream",
     "text": [
      "INFO:tensorflow:Assets written to: C:/Users/Stewart/Documents/GitHub\\dsc650/dsc650/assignments/assignment06/results/6.1a\\assets\n"
     ]
    },
    {
     "name": "stderr",
     "output_type": "stream",
     "text": [
      "INFO:tensorflow:Assets written to: C:/Users/Stewart/Documents/GitHub\\dsc650/dsc650/assignments/assignment06/results/6.1a\\assets\n"
     ]
    }
   ],
   "source": [
    "model.save(\"C:/Users/Stewart/Documents/GitHub\\dsc650/dsc650/assignments/assignment06/results/6.1a\")"
   ]
  },
  {
   "cell_type": "code",
   "execution_count": 25,
   "id": "4d9a6a72",
   "metadata": {},
   "outputs": [
    {
     "data": {
      "image/png": "[encoded data removed]",
      "text/plain": [
       "<Figure size 640x480 with 1 Axes>"
      ]
     },
     "metadata": {},
     "output_type": "display_data"
    },
    {
     "data": {
      "image/png": "[encoded data removed]",
      "text/plain": [
       "<Figure size 640x480 with 1 Axes>"
      ]
     },
     "metadata": {},
     "output_type": "display_data"
    }
   ],
   "source": [
    "# plotting model\n",
    "acc = history.history['acc']\n",
    "val_acc = history.history['val_acc']\n",
    "loss = history.history['loss']\n",
    "val_loss = history.history['val_loss']\n",
    "epochs = range(1, len(acc) + 1)\n",
    "plt.plot(epochs, acc, 'bo', label='Training acc')\n",
    "plt.plot(epochs, val_acc, 'b', label='Validation acc')\n",
    "plt.title('Training and validation accuracy')\n",
    "plt.legend()\n",
    "plt.figure()\n",
    "plt.plot(epochs, loss, 'bo', label='Training loss')\n",
    "plt.plot(epochs, val_loss, 'b', label='Validation loss')\n",
    "plt.title('Training and validation loss')\n",
    "plt.legend()\n",
    "plt.show()"
   ]
  },
  {
   "cell_type": "markdown",
   "id": "838a2349",
   "metadata": {},
   "source": [
    "### Assignment 6.2b"
   ]
  },
  {
   "cell_type": "code",
   "execution_count": 26,
   "id": "c9e1c555",
   "metadata": {},
   "outputs": [],
   "source": [
    "import tensorflow as tf"
   ]
  },
  {
   "cell_type": "code",
   "execution_count": 27,
   "id": "c3778796",
   "metadata": {},
   "outputs": [
    {
     "data": {
      "text/plain": [
       "[PhysicalDevice(name='/physical_device:GPU:0', device_type='GPU')]"
      ]
     },
     "execution_count": 27,
     "metadata": {},
     "output_type": "execute_result"
    }
   ],
   "source": [
    "tf.config.experimental.list_physical_devices('GPU')"
   ]
  },
  {
   "cell_type": "code",
   "execution_count": 28,
   "id": "3c6e1f9a",
   "metadata": {},
   "outputs": [],
   "source": [
    "def prep_pixels(train, test):\n",
    "    # convert from integers to floats\n",
    "    train_norm = train.astype('float32')\n",
    "    test_norm = test.astype('float32')\n",
    "    # normalize to range 0-1\n",
    "    train_norm = train_norm / 255.0\n",
    "    test_norm = test_norm / 255.0\n",
    "    # return normalized images\n",
    "    return train_norm, test_norm"
   ]
  },
  {
   "cell_type": "code",
   "execution_count": 29,
   "id": "293f6b04",
   "metadata": {},
   "outputs": [],
   "source": [
    "def define_model():\n",
    "    model = models.Sequential()\n",
    "    model.add(layers.Conv2D(32, (3, 3), activation='relu', kernel_initializer='he_uniform', padding='same', input_shape=(32, 32, 3)))\n",
    "    model.add(layers.Conv2D(32, (3, 3), activation='relu', kernel_initializer='he_uniform', padding='same'))\n",
    "    model.add(layers.MaxPooling2D((2, 2)))\n",
    "    model.add(layers.Conv2D(64, (3, 3), activation='relu', kernel_initializer='he_uniform', padding='same'))\n",
    "    model.add(layers.Conv2D(64, (3, 3), activation='relu', kernel_initializer='he_uniform', padding='same'))\n",
    "    model.add(layers.MaxPooling2D((2, 2)))\n",
    "    model.add(layers.Conv2D(128, (3, 3), activation='relu', kernel_initializer='he_uniform', padding='same'))\n",
    "    model.add(layers.Conv2D(128, (3, 3), activation='relu', kernel_initializer='he_uniform', padding='same'))\n",
    "    model.add(layers.MaxPooling2D((2, 2)))\n",
    "    model.add(layers.Flatten())\n",
    "    model.add(layers.Dropout(.5))\n",
    "    model.add(layers.Dense(128, activation='relu', kernel_initializer='he_uniform'))\n",
    "    model.add(layers.Dense(10, activation='softmax'))\n",
    "    # compile model\n",
    "    opt = SGD(lr=0.001, momentum=0.9)\n",
    "    model.compile(optimizer=opt, loss='categorical_crossentropy', metrics=['accuracy'])\n",
    "    return model"
   ]
  },
  {
   "cell_type": "code",
   "execution_count": 30,
   "id": "9e74c242",
   "metadata": {},
   "outputs": [],
   "source": [
    "# categorical\n",
    "trainY = to_categorical(y_train)\n",
    "testY = to_categorical(y_test)"
   ]
  },
  {
   "cell_type": "code",
   "execution_count": 31,
   "id": "48b743d9",
   "metadata": {},
   "outputs": [],
   "source": [
    "trainX, testX = prep_pixels(x_train, x_test)"
   ]
  },
  {
   "cell_type": "code",
   "execution_count": 32,
   "id": "b0260c46",
   "metadata": {},
   "outputs": [
    {
     "name": "stderr",
     "output_type": "stream",
     "text": [
      "E:\\Program Files (x86)\\miniconda\\envs\\tf\\lib\\site-packages\\keras\\optimizers\\optimizer_v2\\gradient_descent.py:108: UserWarning: The `lr` argument is deprecated, use `learning_rate` instead.\n",
      "  super(SGD, self).__init__(name, **kwargs)\n"
     ]
    }
   ],
   "source": [
    "# load model\n",
    "model = define_model()"
   ]
  },
  {
   "cell_type": "code",
   "execution_count": 33,
   "id": "8b831905",
   "metadata": {},
   "outputs": [],
   "source": [
    "# create generator to shift and rotate image\n",
    "datagen = ImageDataGenerator(width_shift_range=0.1, height_shift_range=0.1, horizontal_flip=True)"
   ]
  },
  {
   "cell_type": "code",
   "execution_count": 34,
   "id": "c1dd94ea",
   "metadata": {},
   "outputs": [],
   "source": [
    "import scipy"
   ]
  },
  {
   "cell_type": "code",
   "execution_count": 35,
   "id": "77499358",
   "metadata": {},
   "outputs": [],
   "source": [
    "# fit to datda\n",
    "it_train = datagen.flow(trainX, trainY, batch_size=64)"
   ]
  },
  {
   "cell_type": "code",
   "execution_count": 37,
   "id": "4b3f0fe7",
   "metadata": {},
   "outputs": [],
   "source": [
    "# augmented model\n",
    "steps = int(trainX.shape[0] / 64)\n",
    "history = model.fit(it_train, steps_per_epoch=steps, epochs=20,  validation_data=(testX, testY))"
   ]
  },
  {
   "cell_type": "code",
   "execution_count": null,
   "id": "d7cb33f6",
   "metadata": {
    "scrolled": true
   },
   "outputs": [],
   "source": [
    "model.save(\"C:/Users/Stewart/Documents/GitHub\\dsc650/dsc650/assignments/assignment06/results/6.2b\")"
   ]
  },
  {
   "cell_type": "code",
   "execution_count": null,
   "id": "017dc3dc",
   "metadata": {},
   "outputs": [],
   "source": [
    "# plotting model\n",
    "acc = history.history['accuracy']\n",
    "val_acc = history.history['val_accuracy']\n",
    "loss = history.history['loss']\n",
    "val_loss = history.history['val_loss']\n",
    "epochs = range(1, len(acc) + 1)\n",
    "plt.plot(epochs, acc, 'bo', label='Training acc')\n",
    "plt.plot(epochs, val_acc, 'b', label='Validation acc')\n",
    "plt.title('Training and validation accuracy')\n",
    "plt.legend()\n",
    "plt.figure()\n",
    "plt.plot(epochs, loss, 'bo', label='Training loss')\n",
    "plt.plot(epochs, val_loss, 'b', label='Validation loss')\n",
    "plt.title('Training and validation loss')\n",
    "plt.legend()\n",
    "plt.savefig\n",
    "plt.show()\n"
   ]
  },
  {
   "cell_type": "markdown",
   "id": "7cc92134",
   "metadata": {},
   "source": [
    "## Assignment 6.3"
   ]
  },
  {
   "cell_type": "code",
   "execution_count": null,
   "id": "2a7336ca",
   "metadata": {},
   "outputs": [],
   "source": [
    "from tensorflow.keras.applications.resnet50 import ResNet50\n",
    "from tensorflow.keras.preprocessing import image\n",
    "from tensorflow.keras.applications.resnet50 import preprocess_input, decode_predictions\n",
    "import numpy as np\n",
    "from keras.callbacks import CSVLogger"
   ]
  },
  {
   "cell_type": "code",
   "execution_count": null,
   "id": "482e3f12",
   "metadata": {},
   "outputs": [],
   "source": [
    "model = ResNet50(weights='imagenet')"
   ]
  },
  {
   "cell_type": "code",
   "execution_count": null,
   "id": "ebb33389",
   "metadata": {},
   "outputs": [],
   "source": [
    "# set paths\n",
    "path1 = 'C:/Users/Stewart/Documents/GitHub/dsc650/dsc650/assignments/assignment06/J_tree.jpg'\n",
    "path2 = 'C:/Users/Stewart/Documents/GitHub/dsc650/dsc650/assignments/assignment06/family.jpg'\n",
    "path3 = 'C:/Users/Stewart/Documents/GitHub/dsc650/dsc650/assignments/assignment06/el_cap.jpg'\n",
    "path4 = 'C:/Users/Stewart/Documents/GitHub/dsc650/dsc650/assignments/assignment06/destiny.jpg'\n",
    "path5 = 'C:/Users/Stewart/Documents/GitHub/dsc650/dsc650/assignments/assignment06/chicken.jpg'\n",
    "path6 = 'C:/Users/Stewart/Documents/GitHub/dsc650/dsc650/assignments/assignment06/broccoli.jpg'\n",
    "path7 = 'C:/Users/Stewart/Documents/GitHub/dsc650/dsc650/assignments/assignment06/academy.jpg'"
   ]
  },
  {
   "cell_type": "code",
   "execution_count": null,
   "id": "41e9550c",
   "metadata": {},
   "outputs": [],
   "source": [
    "# load images\n",
    "img1 = image.load_img(path1, target_size=(224,224))\n",
    "img2 = image.load_img(path2, target_size=(224,224))\n",
    "img3 = image.load_img(path3, target_size=(224,224))\n",
    "img4 = image.load_img(path4, target_size=(224,224))\n",
    "img5 = image.load_img(path5, target_size=(224,224))\n",
    "img6 = image.load_img(path6, target_size=(224,224))\n",
    "img7 = image.load_img(path7, target_size=(224,224))"
   ]
  },
  {
   "cell_type": "code",
   "execution_count": null,
   "id": "ca0f9e5e",
   "metadata": {},
   "outputs": [],
   "source": [
    "# process images\n",
    "x1 = image.img_to_array(img1)\n",
    "x1 = np.expand_dims(x1, axis=0)\n",
    "x1 = preprocess_input(x1)\n",
    "\n",
    "x2 = image.img_to_array(img2)\n",
    "x2 = np.expand_dims(x2, axis=0)\n",
    "x2 = preprocess_input(x2)\n",
    "\n",
    "x3 = image.img_to_array(img3)\n",
    "x3 = np.expand_dims(x3, axis=0)\n",
    "x3 = preprocess_input(x3)\n",
    "\n",
    "x4 = image.img_to_array(img4)\n",
    "x4 = np.expand_dims(x4, axis=0)\n",
    "x4 = preprocess_input(x4)\n",
    "\n",
    "x5 = image.img_to_array(img5)\n",
    "x5 = np.expand_dims(x5, axis=0)\n",
    "x5 = preprocess_input(x5)\n",
    "\n",
    "x6 = image.img_to_array(img6)\n",
    "x6 = np.expand_dims(x6, axis=0)\n",
    "x6 = preprocess_input(x6)\n",
    "\n",
    "x7 = image.img_to_array(img7)\n",
    "x7 = np.expand_dims(x7, axis=0)\n",
    "x7 = preprocess_input(x7)"
   ]
  },
  {
   "cell_type": "code",
   "execution_count": null,
   "id": "b4ef6b26",
   "metadata": {},
   "outputs": [],
   "source": [
    "# make list\n",
    "img_lst = [x1, x2, x3, x4, x5, x6, x7]"
   ]
  },
  {
   "cell_type": "code",
   "execution_count": null,
   "id": "47fb8a31",
   "metadata": {},
   "outputs": [],
   "source": [
    "# predict with RESNET\n",
    "preds = []\n",
    "for img in img_lst:\n",
    "    preds.append(model.predict(img))"
   ]
  },
  {
   "cell_type": "code",
   "execution_count": null,
   "id": "b9b90f87",
   "metadata": {
    "scrolled": false
   },
   "outputs": [],
   "source": [
    "# print predictions, save to text file\n",
    "for pred in preds:\n",
    "    print('Predicted: ', decode_predictions(pred, top=3)[0])"
   ]
  }
 ],
 "metadata": {
  "kernelspec": {
   "display_name": "Python 3 (ipykernel)",
   "language": "python",
   "name": "python3"
  },
  "language_info": {
   "codemirror_mode": {
    "name": "ipython",
    "version": 3
   },
   "file_extension": ".py",
   "mimetype": "text/x-python",
   "name": "python",
   "nbconvert_exporter": "python",
   "pygments_lexer": "ipython3",
   "version": "3.10.11"
  }
 },
 "nbformat": 4,
 "nbformat_minor": 5
}
