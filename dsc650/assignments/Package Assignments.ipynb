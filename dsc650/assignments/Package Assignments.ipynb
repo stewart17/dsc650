{
 "cells": [
  {
   "cell_type": "code",
   "execution_count": 1,
   "metadata": {},
   "outputs": [],
   "source": [
    "import os\n",
    "from pathlib import Path\n",
    "import zipfile\n",
    "import shutil\n",
    "\n",
    "first_name = 'Stewart' # Put your first name here\n",
    "last_name = 'Wilson' # Put your last name here\n",
    "\n",
    "first_name = first_name.replace(' ', '-') # Replace spaces with -\n",
    "last_name = last_name.replace(' ', '-') # Replace spaces with -\n",
    "\n",
    "current_dir = Path(os.getcwd()).absolute()\n",
    "completed_dir = current_dir.joinpath('completed')\n",
    "completed_dir.mkdir(parents=True, exist_ok=True)\n",
    "\n",
    "def zipit(path, archname):\n",
    "    archive = zipfile.ZipFile(archname, \"w\", zipfile.ZIP_DEFLATED)\n",
    "    if os.path.isdir(path):\n",
    "        _zippy(path, path, archive)\n",
    "    else:\n",
    "        _, name = os.path.split(path)\n",
    "        archive.write(path, name)\n",
    "    archive.close()\n",
    "    \n",
    "def _zippy(base_path, path, archive):\n",
    "    paths = os.listdir(path)\n",
    "    for p in paths:\n",
    "        p = os.path.join(path, p)\n",
    "        if os.path.isdir(p):\n",
    "            _zippy(base_path, p, archive)\n",
    "        else:\n",
    "            archive.write(p, os.path.relpath(p, base_path))\n",
    "\n",
    "def compress_assignment_dir(assignment_dir):\n",
    "    assignment_name = assignment_dir.name\n",
    "    zip_file_name = '{}_{}{}.zip'.format(\n",
    "        assignment_name,\n",
    "        last_name,\n",
    "        first_name\n",
    "    )\n",
    "    zip_file_path = completed_dir.joinpath(zip_file_name)\n",
    "    print(zip_file_path)\n",
    "    zipit(assignment_dir, zip_file_path)\n",
    "#     zip_file_path = completed_dir.joinpath(zip_file_name)\n",
    "#     shutil.make_archive(zip_file_path, 'zip', assignment_dir)"
   ]
  },
  {
   "cell_type": "markdown",
   "metadata": {},
   "source": [
    "## Create Archive for Single Assignment\n",
    "\n",
    "Overwrites existing output if exists"
   ]
  },
  {
   "cell_type": "code",
   "execution_count": 2,
   "metadata": {},
   "outputs": [
    {
     "name": "stdout",
     "output_type": "stream",
     "text": [
      "E:\\Documents\\GitHub\\dsc650\\dsc650\\assignments\\completed\\assignment02_WilsonStewart.zip\n"
     ]
    }
   ],
   "source": [
    "current_assignment_num = 2\n",
    "current_assignment_dir = current_dir.joinpath('assignment{:02d}'.format(current_assignment_num))\n",
    "compress_assignment_dir(current_assignment_dir)"
   ]
  },
  {
   "cell_type": "markdown",
   "metadata": {},
   "source": [
    "## Create Archives for All Assignments"
   ]
  },
  {
   "cell_type": "code",
   "execution_count": 3,
   "metadata": {},
   "outputs": [
    {
     "name": "stdout",
     "output_type": "stream",
     "text": [
      "E:\\Documents\\GitHub\\dsc650\\dsc650\\assignments\\completed\\assignment01_WilsonStewart.zip\n",
      "E:\\Documents\\GitHub\\dsc650\\dsc650\\assignments\\completed\\assignment02_WilsonStewart.zip\n",
      "E:\\Documents\\GitHub\\dsc650\\dsc650\\assignments\\completed\\assignment03_WilsonStewart.zip\n"
     ]
    },
    {
     "ename": "KeyboardInterrupt",
     "evalue": "",
     "output_type": "error",
     "traceback": [
      "\u001b[1;31m---------------------------------------------------------------------------\u001b[0m",
      "\u001b[1;31mKeyboardInterrupt\u001b[0m                         Traceback (most recent call last)",
      "Cell \u001b[1;32mIn[3], line 9\u001b[0m\n\u001b[0;32m      1\u001b[0m assignment_dirs \u001b[38;5;241m=\u001b[39m \u001b[38;5;28msorted\u001b[39m([\n\u001b[0;32m      2\u001b[0m     Path(entry\u001b[38;5;241m.\u001b[39mpath) \n\u001b[0;32m      3\u001b[0m     \u001b[38;5;28;01mfor\u001b[39;00m entry \u001b[38;5;129;01min\u001b[39;00m os\u001b[38;5;241m.\u001b[39mscandir(current_dir)\n\u001b[0;32m      4\u001b[0m     \u001b[38;5;28;01mif\u001b[39;00m entry\u001b[38;5;241m.\u001b[39mis_dir() \u001b[38;5;129;01mand\u001b[39;00m entry\u001b[38;5;241m.\u001b[39mname\u001b[38;5;241m.\u001b[39mstartswith(\u001b[38;5;124m'\u001b[39m\u001b[38;5;124massignment\u001b[39m\u001b[38;5;124m'\u001b[39m)\n\u001b[0;32m      5\u001b[0m ])\n\u001b[0;32m      8\u001b[0m \u001b[38;5;28;01mfor\u001b[39;00m assignment_dir \u001b[38;5;129;01min\u001b[39;00m assignment_dirs:\n\u001b[1;32m----> 9\u001b[0m     \u001b[43mcompress_assignment_dir\u001b[49m\u001b[43m(\u001b[49m\u001b[43massignment_dir\u001b[49m\u001b[43m)\u001b[49m\n",
      "Cell \u001b[1;32mIn[1], line 43\u001b[0m, in \u001b[0;36mcompress_assignment_dir\u001b[1;34m(assignment_dir)\u001b[0m\n\u001b[0;32m     41\u001b[0m zip_file_path \u001b[38;5;241m=\u001b[39m completed_dir\u001b[38;5;241m.\u001b[39mjoinpath(zip_file_name)\n\u001b[0;32m     42\u001b[0m \u001b[38;5;28mprint\u001b[39m(zip_file_path)\n\u001b[1;32m---> 43\u001b[0m \u001b[43mzipit\u001b[49m\u001b[43m(\u001b[49m\u001b[43massignment_dir\u001b[49m\u001b[43m,\u001b[49m\u001b[43m \u001b[49m\u001b[43mzip_file_path\u001b[49m\u001b[43m)\u001b[49m\n",
      "Cell \u001b[1;32mIn[1], line 19\u001b[0m, in \u001b[0;36mzipit\u001b[1;34m(path, archname)\u001b[0m\n\u001b[0;32m     17\u001b[0m archive \u001b[38;5;241m=\u001b[39m zipfile\u001b[38;5;241m.\u001b[39mZipFile(archname, \u001b[38;5;124m\"\u001b[39m\u001b[38;5;124mw\u001b[39m\u001b[38;5;124m\"\u001b[39m, zipfile\u001b[38;5;241m.\u001b[39mZIP_DEFLATED)\n\u001b[0;32m     18\u001b[0m \u001b[38;5;28;01mif\u001b[39;00m os\u001b[38;5;241m.\u001b[39mpath\u001b[38;5;241m.\u001b[39misdir(path):\n\u001b[1;32m---> 19\u001b[0m     \u001b[43m_zippy\u001b[49m\u001b[43m(\u001b[49m\u001b[43mpath\u001b[49m\u001b[43m,\u001b[49m\u001b[43m \u001b[49m\u001b[43mpath\u001b[49m\u001b[43m,\u001b[49m\u001b[43m \u001b[49m\u001b[43marchive\u001b[49m\u001b[43m)\u001b[49m\n\u001b[0;32m     20\u001b[0m \u001b[38;5;28;01melse\u001b[39;00m:\n\u001b[0;32m     21\u001b[0m     _, name \u001b[38;5;241m=\u001b[39m os\u001b[38;5;241m.\u001b[39mpath\u001b[38;5;241m.\u001b[39msplit(path)\n",
      "Cell \u001b[1;32mIn[1], line 30\u001b[0m, in \u001b[0;36m_zippy\u001b[1;34m(base_path, path, archive)\u001b[0m\n\u001b[0;32m     28\u001b[0m p \u001b[38;5;241m=\u001b[39m os\u001b[38;5;241m.\u001b[39mpath\u001b[38;5;241m.\u001b[39mjoin(path, p)\n\u001b[0;32m     29\u001b[0m \u001b[38;5;28;01mif\u001b[39;00m os\u001b[38;5;241m.\u001b[39mpath\u001b[38;5;241m.\u001b[39misdir(p):\n\u001b[1;32m---> 30\u001b[0m     \u001b[43m_zippy\u001b[49m\u001b[43m(\u001b[49m\u001b[43mbase_path\u001b[49m\u001b[43m,\u001b[49m\u001b[43m \u001b[49m\u001b[43mp\u001b[49m\u001b[43m,\u001b[49m\u001b[43m \u001b[49m\u001b[43marchive\u001b[49m\u001b[43m)\u001b[49m\n\u001b[0;32m     31\u001b[0m \u001b[38;5;28;01melse\u001b[39;00m:\n\u001b[0;32m     32\u001b[0m     archive\u001b[38;5;241m.\u001b[39mwrite(p, os\u001b[38;5;241m.\u001b[39mpath\u001b[38;5;241m.\u001b[39mrelpath(p, base_path))\n",
      "Cell \u001b[1;32mIn[1], line 30\u001b[0m, in \u001b[0;36m_zippy\u001b[1;34m(base_path, path, archive)\u001b[0m\n\u001b[0;32m     28\u001b[0m p \u001b[38;5;241m=\u001b[39m os\u001b[38;5;241m.\u001b[39mpath\u001b[38;5;241m.\u001b[39mjoin(path, p)\n\u001b[0;32m     29\u001b[0m \u001b[38;5;28;01mif\u001b[39;00m os\u001b[38;5;241m.\u001b[39mpath\u001b[38;5;241m.\u001b[39misdir(p):\n\u001b[1;32m---> 30\u001b[0m     \u001b[43m_zippy\u001b[49m\u001b[43m(\u001b[49m\u001b[43mbase_path\u001b[49m\u001b[43m,\u001b[49m\u001b[43m \u001b[49m\u001b[43mp\u001b[49m\u001b[43m,\u001b[49m\u001b[43m \u001b[49m\u001b[43marchive\u001b[49m\u001b[43m)\u001b[49m\n\u001b[0;32m     31\u001b[0m \u001b[38;5;28;01melse\u001b[39;00m:\n\u001b[0;32m     32\u001b[0m     archive\u001b[38;5;241m.\u001b[39mwrite(p, os\u001b[38;5;241m.\u001b[39mpath\u001b[38;5;241m.\u001b[39mrelpath(p, base_path))\n",
      "    \u001b[1;31m[... skipping similar frames: _zippy at line 30 (1 times)]\u001b[0m\n",
      "Cell \u001b[1;32mIn[1], line 30\u001b[0m, in \u001b[0;36m_zippy\u001b[1;34m(base_path, path, archive)\u001b[0m\n\u001b[0;32m     28\u001b[0m p \u001b[38;5;241m=\u001b[39m os\u001b[38;5;241m.\u001b[39mpath\u001b[38;5;241m.\u001b[39mjoin(path, p)\n\u001b[0;32m     29\u001b[0m \u001b[38;5;28;01mif\u001b[39;00m os\u001b[38;5;241m.\u001b[39mpath\u001b[38;5;241m.\u001b[39misdir(p):\n\u001b[1;32m---> 30\u001b[0m     \u001b[43m_zippy\u001b[49m\u001b[43m(\u001b[49m\u001b[43mbase_path\u001b[49m\u001b[43m,\u001b[49m\u001b[43m \u001b[49m\u001b[43mp\u001b[49m\u001b[43m,\u001b[49m\u001b[43m \u001b[49m\u001b[43marchive\u001b[49m\u001b[43m)\u001b[49m\n\u001b[0;32m     31\u001b[0m \u001b[38;5;28;01melse\u001b[39;00m:\n\u001b[0;32m     32\u001b[0m     archive\u001b[38;5;241m.\u001b[39mwrite(p, os\u001b[38;5;241m.\u001b[39mpath\u001b[38;5;241m.\u001b[39mrelpath(p, base_path))\n",
      "Cell \u001b[1;32mIn[1], line 32\u001b[0m, in \u001b[0;36m_zippy\u001b[1;34m(base_path, path, archive)\u001b[0m\n\u001b[0;32m     30\u001b[0m     _zippy(base_path, p, archive)\n\u001b[0;32m     31\u001b[0m \u001b[38;5;28;01melse\u001b[39;00m:\n\u001b[1;32m---> 32\u001b[0m     \u001b[43marchive\u001b[49m\u001b[38;5;241;43m.\u001b[39;49m\u001b[43mwrite\u001b[49m\u001b[43m(\u001b[49m\u001b[43mp\u001b[49m\u001b[43m,\u001b[49m\u001b[43m \u001b[49m\u001b[43mos\u001b[49m\u001b[38;5;241;43m.\u001b[39;49m\u001b[43mpath\u001b[49m\u001b[38;5;241;43m.\u001b[39;49m\u001b[43mrelpath\u001b[49m\u001b[43m(\u001b[49m\u001b[43mp\u001b[49m\u001b[43m,\u001b[49m\u001b[43m \u001b[49m\u001b[43mbase_path\u001b[49m\u001b[43m)\u001b[49m\u001b[43m)\u001b[49m\n",
      "File \u001b[1;32mE:\\Program Files (x86)\\miniconda\\envs\\tf\\lib\\zipfile.py:1775\u001b[0m, in \u001b[0;36mZipFile.write\u001b[1;34m(self, filename, arcname, compress_type, compresslevel)\u001b[0m\n\u001b[0;32m   1773\u001b[0m         \u001b[38;5;28mself\u001b[39m\u001b[38;5;241m.\u001b[39mstart_dir \u001b[38;5;241m=\u001b[39m \u001b[38;5;28mself\u001b[39m\u001b[38;5;241m.\u001b[39mfp\u001b[38;5;241m.\u001b[39mtell()\n\u001b[0;32m   1774\u001b[0m \u001b[38;5;28;01melse\u001b[39;00m:\n\u001b[1;32m-> 1775\u001b[0m     \u001b[38;5;28;01mwith\u001b[39;00m \u001b[38;5;28mopen\u001b[39m(filename, \u001b[38;5;124m\"\u001b[39m\u001b[38;5;124mrb\u001b[39m\u001b[38;5;124m\"\u001b[39m) \u001b[38;5;28;01mas\u001b[39;00m src, \u001b[38;5;28;43mself\u001b[39;49m\u001b[38;5;241;43m.\u001b[39;49m\u001b[43mopen\u001b[49m\u001b[43m(\u001b[49m\u001b[43mzinfo\u001b[49m\u001b[43m,\u001b[49m\u001b[43m \u001b[49m\u001b[38;5;124;43m'\u001b[39;49m\u001b[38;5;124;43mw\u001b[39;49m\u001b[38;5;124;43m'\u001b[39;49m\u001b[43m)\u001b[49m \u001b[38;5;28;01mas\u001b[39;00m dest:\n\u001b[0;32m   1776\u001b[0m         shutil\u001b[38;5;241m.\u001b[39mcopyfileobj(src, dest, \u001b[38;5;241m1024\u001b[39m\u001b[38;5;241m*\u001b[39m\u001b[38;5;241m8\u001b[39m)\n",
      "File \u001b[1;32mE:\\Program Files (x86)\\miniconda\\envs\\tf\\lib\\zipfile.py:1480\u001b[0m, in \u001b[0;36mZipFile.open\u001b[1;34m(self, name, mode, pwd, force_zip64)\u001b[0m\n\u001b[0;32m   1477\u001b[0m     \u001b[38;5;28;01mwith\u001b[39;00m \u001b[38;5;28mself\u001b[39m\u001b[38;5;241m.\u001b[39mopen(name, \u001b[38;5;124m\"\u001b[39m\u001b[38;5;124mr\u001b[39m\u001b[38;5;124m\"\u001b[39m, pwd) \u001b[38;5;28;01mas\u001b[39;00m fp:\n\u001b[0;32m   1478\u001b[0m         \u001b[38;5;28;01mreturn\u001b[39;00m fp\u001b[38;5;241m.\u001b[39mread()\n\u001b[1;32m-> 1480\u001b[0m \u001b[38;5;28;01mdef\u001b[39;00m \u001b[38;5;21mopen\u001b[39m(\u001b[38;5;28mself\u001b[39m, name, mode\u001b[38;5;241m=\u001b[39m\u001b[38;5;124m\"\u001b[39m\u001b[38;5;124mr\u001b[39m\u001b[38;5;124m\"\u001b[39m, pwd\u001b[38;5;241m=\u001b[39m\u001b[38;5;28;01mNone\u001b[39;00m, \u001b[38;5;241m*\u001b[39m, force_zip64\u001b[38;5;241m=\u001b[39m\u001b[38;5;28;01mFalse\u001b[39;00m):\n\u001b[0;32m   1481\u001b[0m     \u001b[38;5;124;03m\"\"\"Return file-like object for 'name'.\u001b[39;00m\n\u001b[0;32m   1482\u001b[0m \n\u001b[0;32m   1483\u001b[0m \u001b[38;5;124;03m    name is a string for the file name within the ZIP file, or a ZipInfo\u001b[39;00m\n\u001b[1;32m   (...)\u001b[0m\n\u001b[0;32m   1494\u001b[0m \u001b[38;5;124;03m    instance for name, with zinfo.file_size set.\u001b[39;00m\n\u001b[0;32m   1495\u001b[0m \u001b[38;5;124;03m    \"\"\"\u001b[39;00m\n\u001b[0;32m   1496\u001b[0m     \u001b[38;5;28;01mif\u001b[39;00m mode \u001b[38;5;129;01mnot\u001b[39;00m \u001b[38;5;129;01min\u001b[39;00m {\u001b[38;5;124m\"\u001b[39m\u001b[38;5;124mr\u001b[39m\u001b[38;5;124m\"\u001b[39m, \u001b[38;5;124m\"\u001b[39m\u001b[38;5;124mw\u001b[39m\u001b[38;5;124m\"\u001b[39m}:\n",
      "\u001b[1;31mKeyboardInterrupt\u001b[0m: "
     ]
    }
   ],
   "source": [
    "assignment_dirs = sorted([\n",
    "    Path(entry.path) \n",
    "    for entry in os.scandir(current_dir)\n",
    "    if entry.is_dir() and entry.name.startswith('assignment')\n",
    "])\n",
    "\n",
    "\n",
    "for assignment_dir in assignment_dirs:\n",
    "    compress_assignment_dir(assignment_dir)"
   ]
  }
 ],
 "metadata": {
  "kernelspec": {
   "display_name": "Python 3 (ipykernel)",
   "language": "python",
   "name": "python3"
  },
  "language_info": {
   "codemirror_mode": {
    "name": "ipython",
    "version": 3
   },
   "file_extension": ".py",
   "mimetype": "text/x-python",
   "name": "python",
   "nbconvert_exporter": "python",
   "pygments_lexer": "ipython3",
   "version": "3.10.11"
  }
 },
 "nbformat": 4,
 "nbformat_minor": 4
}
